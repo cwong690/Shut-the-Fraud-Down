{
 "cells": [
  {
   "cell_type": "code",
   "execution_count": 2,
   "metadata": {},
   "outputs": [
    {
     "name": "stdout",
     "output_type": "stream",
     "text": [
      "The autoreload extension is already loaded. To reload it, use:\n",
      "  %reload_ext autoreload\n"
     ]
    }
   ],
   "source": [
    "from pymongo import MongoClient\n",
    "\n",
    "import pprint\n",
    "\n",
    "import requests\n",
    "\n",
    "import time\n",
    "\n",
    "import pandas as pd\n",
    "\n",
    "%load_ext autoreload\n",
    "%autoreload 2"
   ]
  },
  {
   "cell_type": "code",
   "execution_count": null,
   "metadata": {},
   "outputs": [],
   "source": [
    "# client = MongoClient('localhost', 27017)\n",
    "# db = client['frauds_test']\n",
    "# table = db['new_events_test2']"
   ]
  },
  {
   "cell_type": "code",
   "execution_count": null,
   "metadata": {},
   "outputs": [],
   "source": [
    "# events = table.find()\n",
    "\n",
    "# for event in events:\n",
    "#     pprint.pprint(event)"
   ]
  },
  {
   "cell_type": "code",
   "execution_count": null,
   "metadata": {},
   "outputs": [],
   "source": []
  },
  {
   "cell_type": "code",
   "execution_count": null,
   "metadata": {},
   "outputs": [],
   "source": []
  },
  {
   "cell_type": "markdown",
   "metadata": {},
   "source": [
    "## Live data test ##"
   ]
  },
  {
   "cell_type": "code",
   "execution_count": 28,
   "metadata": {},
   "outputs": [],
   "source": [
    "client = MongoClient('localhost', 27017)\n",
    "db = client['frauds']\n",
    "table = db['new_events5']"
   ]
  },
  {
   "cell_type": "code",
   "execution_count": null,
   "metadata": {},
   "outputs": [
    {
     "name": "stdout",
     "output_type": "stream",
     "text": [
      "Requesting data...\n",
      "Saving...\n",
      "Received data:\n",
      "{'body_length': 812, 'channels': 0, 'country': 'US', 'currency': 'USD', 'delivery_method': 1.0, 'description': '<p style=\"text-align: center;\"><span style=\"font-size: x-large; font-family: arial, helvetica, sans-serif; color: #ff0000;\">***To obtain your VIP passes please enter the e-mail address where you received your VIP invitation in the <strong>Promotion Code</strong> box situated above the \\'Order Now\\' button.*** &nbsp;</span></p>\\r\\n<p style=\"text-align: center;\"><span style=\"font-family: arial, helvetica, sans-serif; font-size: x-large; color: #ff0000;\">Once you have entered your email address as the promotional code the ticket price will be zeroed out.&nbsp;</span></p>\\r\\n<p style=\"text-align: center;\"><span style=\"color: #ff0000; font-size: x-large;\"><strong><span style=\"font-family: arial, helvetica, sans-serif;\">You may redeem up to two complimentary tickets for the event.&nbsp;</span></strong></span></p>', 'email_domain': 'fotoweekdc.org', 'event_created': 1350594085, 'event_end': 1352617200, 'event_published': 1350594288.0, 'event_start': 1352606400, 'fb_published': 0, 'has_analytics': 0, 'has_header': 1.0, 'has_logo': 0, 'listed': 'n', 'name': 'VIP2 - FotoWeekDC Benefit Launch Party', 'name_length': 38, 'object_id': 4631028, 'org_desc': '<p><span style=\"font-size: small; font-family: helvetica;\">FotoDC is a 501(c)(3) non-profit; our mission is to&nbsp;provide exposure for photographers and to make&nbsp;diverse, high-quality photography accessible to audiences through the exhibition of inspiring and provocative images,&nbsp;dynamic&nbsp;programming, and collaborations with the local and international community.</span></p>\\r\\n<!--StartFragment-->\\r\\n<p class=\"MsoNormal\" style=\"margin-bottom: .0001pt; text-align: justify; line-height: normal;\">&nbsp;</p>\\r\\n<!--EndFragment-->', 'org_facebook': 10.0, 'org_name': 'FotoDC / FotoWeekDC', 'org_twitter': 10.0, 'payee_name': '', 'payout_type': 'ACH', 'previous_payouts': [{'name': '', 'created': '2012-04-10 03:13:40', 'country': 'US', 'amount': 1980.0, 'state': '', 'address': '', 'uid': 27834623, 'event': 3223789, 'zip_code': ''}, {'name': '', 'created': '2012-04-11 03:12:54', 'country': 'US', 'amount': 431.0, 'state': '', 'address': '', 'uid': 27834623, 'event': 3195759, 'zip_code': ''}, {'name': '', 'created': '2012-09-05 12:21:40', 'country': 'US', 'amount': 811.8, 'state': '', 'address': '', 'uid': 27834623, 'event': 3828572, 'zip_code': ''}, {'name': '', 'created': '2012-09-05 12:21:40', 'country': 'US', 'amount': 2723.2, 'state': '', 'address': '', 'uid': 27834623, 'event': 3833306, 'zip_code': ''}, {'name': '', 'created': '2012-09-05 12:21:40', 'country': 'US', 'amount': 58.08, 'state': '', 'address': '', 'uid': 27834623, 'event': 4066444, 'zip_code': ''}, {'name': '', 'created': '2012-09-05 12:21:40', 'country': 'US', 'amount': 174.23, 'state': '', 'address': '', 'uid': 27834623, 'event': 4117352, 'zip_code': ''}, {'name': '', 'created': '2012-09-05 12:21:41', 'country': 'US', 'amount': 116.15, 'state': '', 'address': '', 'uid': 27834623, 'event': 4133958, 'zip_code': ''}, {'name': '', 'created': '2012-09-05 12:21:41', 'country': 'US', 'amount': 116.15, 'state': '', 'address': '', 'uid': 27834623, 'event': 4133976, 'zip_code': ''}, {'name': '', 'created': '2012-09-05 12:21:41', 'country': 'US', 'amount': 58.08, 'state': '', 'address': '', 'uid': 27834623, 'event': 4134464, 'zip_code': ''}, {'name': '', 'created': '2012-09-05 12:21:41', 'country': 'US', 'amount': 116.15, 'state': '', 'address': '', 'uid': 27834623, 'event': 4134502, 'zip_code': ''}, {'name': '', 'created': '2012-09-05 12:21:41', 'country': 'US', 'amount': 116.15, 'state': '', 'address': '', 'uid': 27834623, 'event': 4134700, 'zip_code': ''}, {'name': '', 'created': '2012-09-05 12:21:41', 'country': 'US', 'amount': 58.08, 'state': '', 'address': '', 'uid': 27834623, 'event': 4134756, 'zip_code': ''}, {'name': '', 'created': '2012-09-05 12:21:41', 'country': 'US', 'amount': 58.08, 'state': '', 'address': '', 'uid': 27834623, 'event': 4134788, 'zip_code': ''}, {'name': '', 'created': '2012-09-05 12:21:42', 'country': 'US', 'amount': 116.15, 'state': '', 'address': '', 'uid': 27834623, 'event': 4134842, 'zip_code': ''}, {'name': '', 'created': '2012-09-05 12:21:42', 'country': 'US', 'amount': 116.15, 'state': '', 'address': '', 'uid': 27834623, 'event': 4134916, 'zip_code': ''}, {'name': '', 'created': '2012-09-05 12:21:42', 'country': 'US', 'amount': 232.3, 'state': '', 'address': '', 'uid': 27834623, 'event': 4135006, 'zip_code': ''}, {'name': '', 'created': '2012-09-05 12:21:42', 'country': 'US', 'amount': 116.15, 'state': '', 'address': '', 'uid': 27834623, 'event': 4135126, 'zip_code': ''}, {'name': '', 'created': '2012-09-05 12:21:42', 'country': 'US', 'amount': 116.15, 'state': '', 'address': '', 'uid': 27834623, 'event': 4135148, 'zip_code': ''}, {'name': '', 'created': '2012-09-05 12:21:42', 'country': 'US', 'amount': 174.23, 'state': '', 'address': '', 'uid': 27834623, 'event': 4135274, 'zip_code': ''}, {'name': '', 'created': '2012-09-05 12:21:42', 'country': 'US', 'amount': 174.23, 'state': '', 'address': '', 'uid': 27834623, 'event': 4135292, 'zip_code': ''}, {'name': '', 'created': '2012-09-15 03:34:38', 'country': 'US', 'amount': 447.12, 'state': '', 'address': '', 'uid': 27834623, 'event': 3828572, 'zip_code': ''}, {'name': '', 'created': '2012-09-15 03:34:38', 'country': 'US', 'amount': 2629.32, 'state': '', 'address': '', 'uid': 27834623, 'event': 3833306, 'zip_code': ''}, {'name': '', 'created': '2012-09-15 03:34:38', 'country': 'US', 'amount': 116.15, 'state': '', 'address': '', 'uid': 27834623, 'event': 4066444, 'zip_code': ''}, {'name': '', 'created': '2012-09-15 03:34:38', 'country': 'US', 'amount': 116.15, 'state': '', 'address': '', 'uid': 27834623, 'event': 4117352, 'zip_code': ''}, {'name': '', 'created': '2012-09-15 03:34:38', 'country': 'US', 'amount': 67.03, 'state': '', 'address': '', 'uid': 27834623, 'event': 4133938, 'zip_code': ''}, {'name': '', 'created': '2012-09-15 03:34:38', 'country': 'US', 'amount': 58.08, 'state': '', 'address': '', 'uid': 27834623, 'event': 4133976, 'zip_code': ''}, {'name': '', 'created': '2012-09-15 03:34:38', 'country': 'US', 'amount': 58.08, 'state': '', 'address': '', 'uid': 27834623, 'event': 4134430, 'zip_code': ''}, {'name': '', 'created': '2012-09-15 03:34:39', 'country': 'US', 'amount': 116.15, 'state': '', 'address': '', 'uid': 27834623, 'event': 4134464, 'zip_code': ''}, {'name': '', 'created': '2012-09-15 03:34:39', 'country': 'US', 'amount': 67.03, 'state': '', 'address': '', 'uid': 27834623, 'event': 4134502, 'zip_code': ''}, {'name': '', 'created': '2012-09-15 03:34:39', 'country': 'US', 'amount': 58.08, 'state': '', 'address': '', 'uid': 27834623, 'event': 4134532, 'zip_code': ''}, {'name': '', 'created': '2012-09-15 03:34:39', 'country': 'US', 'amount': 58.07, 'state': '', 'address': '', 'uid': 27834623, 'event': 4134756, 'zip_code': ''}, {'name': '', 'created': '2012-09-15 03:34:39', 'country': 'US', 'amount': 58.07, 'state': '', 'address': '', 'uid': 27834623, 'event': 4134788, 'zip_code': ''}, {'name': '', 'created': '2012-09-15 03:34:39', 'country': 'US', 'amount': 308.28, 'state': '', 'address': '', 'uid': 27834623, 'event': 4135148, 'zip_code': ''}, {'name': '', 'created': '2012-09-15 03:34:39', 'country': 'US', 'amount': 58.07, 'state': '', 'address': '', 'uid': 27834623, 'event': 4135292, 'zip_code': ''}, {'name': '', 'created': '2012-09-22 03:16:26', 'country': 'US', 'amount': 821.16, 'state': '', 'address': '', 'uid': 27834623, 'event': 3828572, 'zip_code': ''}, {'name': '', 'created': '2012-09-29 03:15:48', 'country': 'US', 'amount': 303.8, 'state': '', 'address': '', 'uid': 27834623, 'event': 4374892, 'zip_code': ''}, {'name': '', 'created': '2012-10-01 03:35:42', 'country': 'US', 'amount': 1918.48, 'state': '', 'address': '', 'uid': 27834623, 'event': 3833306, 'zip_code': ''}, {'name': '', 'created': '2012-10-01 03:35:42', 'country': 'US', 'amount': 67.02, 'state': '', 'address': '', 'uid': 27834623, 'event': 4134464, 'zip_code': ''}, {'name': '', 'created': '2012-10-01 03:35:42', 'country': 'US', 'amount': 67.02, 'state': '', 'address': '', 'uid': 27834623, 'event': 4134502, 'zip_code': ''}, {'name': '', 'created': '2012-10-01 03:35:42', 'country': 'US', 'amount': 67.02, 'state': '', 'address': '', 'uid': 27834623, 'event': 4134532, 'zip_code': ''}, {'name': '', 'created': '2012-10-01 03:35:42', 'country': 'US', 'amount': 67.03, 'state': '', 'address': '', 'uid': 27834623, 'event': 4134642, 'zip_code': ''}, {'name': '', 'created': '2012-10-01 03:35:42', 'country': 'US', 'amount': 67.03, 'state': '', 'address': '', 'uid': 27834623, 'event': 4134700, 'zip_code': ''}, {'name': '', 'created': '2012-10-01 03:35:42', 'country': 'US', 'amount': 132.03, 'state': '', 'address': '', 'uid': 27834623, 'event': 4134756, 'zip_code': ''}, {'name': '', 'created': '2012-10-01 03:35:42', 'country': 'US', 'amount': 134.05, 'state': '', 'address': '', 'uid': 27834623, 'event': 4135148, 'zip_code': ''}, {'name': '', 'created': '2012-10-01 03:35:42', 'country': 'US', 'amount': 21.88, 'state': '', 'address': '', 'uid': 27834623, 'event': 4375926, 'zip_code': ''}, {'name': '', 'created': '2012-10-01 03:35:42', 'country': 'US', 'amount': 78.46, 'state': '', 'address': '', 'uid': 27834623, 'event': 4377460, 'zip_code': ''}, {'name': '', 'created': '2012-10-15 03:35:30', 'country': 'US', 'amount': 3918.1, 'state': '', 'address': '', 'uid': 27834623, 'event': 3833306, 'zip_code': ''}, {'name': '', 'created': '2012-10-15 03:35:30', 'country': 'US', 'amount': 201.08, 'state': '', 'address': '', 'uid': 27834623, 'event': 4117352, 'zip_code': ''}, {'name': '', 'created': '2012-10-15 03:35:30', 'country': 'US', 'amount': 67.02, 'state': '', 'address': '', 'uid': 27834623, 'event': 4134642, 'zip_code': ''}, {'name': '', 'created': '2012-10-15 03:35:30', 'country': 'US', 'amount': 67.03, 'state': '', 'address': '', 'uid': 27834623, 'event': 4134842, 'zip_code': ''}, {'name': '', 'created': '2012-10-15 03:35:31', 'country': 'US', 'amount': 67.03, 'state': '', 'address': '', 'uid': 27834623, 'event': 4134916, 'zip_code': ''}, {'name': '', 'created': '2012-10-15 03:35:31', 'country': 'US', 'amount': 67.03, 'state': '', 'address': '', 'uid': 27834623, 'event': 4135126, 'zip_code': ''}, {'name': '', 'created': '2012-10-15 03:35:31', 'country': 'US', 'amount': 67.02, 'state': '', 'address': '', 'uid': 27834623, 'event': 4135274, 'zip_code': ''}, {'name': '', 'created': '2012-10-15 03:35:31', 'country': 'US', 'amount': 67.03, 'state': '', 'address': '', 'uid': 27834623, 'event': 4145212, 'zip_code': ''}, {'name': '', 'created': '2012-10-15 03:35:31', 'country': 'US', 'amount': 175.04, 'state': '', 'address': '', 'uid': 27834623, 'event': 4375926, 'zip_code': ''}, {'name': '', 'created': '2012-10-15 03:35:31', 'country': 'US', 'amount': 1407.06, 'state': '', 'address': '', 'uid': 27834623, 'event': 4377460, 'zip_code': ''}], 'sale_duration': 23.0, 'show_map': 1, 'ticket_types': [{'event_id': 4631028, 'cost': 55.0, 'availability': 1, 'quantity_total': 500}], 'user_age': 239, 'user_created': 1329944162, 'user_type': 3, 'venue_address': '1299 Pennsylvania Ave NW', 'venue_country': 'US', 'venue_latitude': 38.8962798, 'venue_longitude': -77.0283115, 'venue_name': 'FotoWeekCentral - Entrance on E Street, NW (between 12th & 13th)', 'venue_state': 'DC', 'sequence_number': 2924}\n",
      "\n",
      "in true\n",
      "in true\n",
      "in false\n",
      "Waiting 30 seconds...\n",
      "Requesting data...\n",
      "No new data received.\n",
      "Waiting 30 seconds...\n",
      "Requesting data...\n",
      "No new data received.\n",
      "Waiting 30 seconds...\n",
      "Requesting data...\n",
      "No new data received.\n",
      "Waiting 30 seconds...\n",
      "Requesting data...\n",
      "No new data received.\n",
      "Waiting 30 seconds...\n",
      "Requesting data...\n",
      "Saving...\n",
      "Received data:\n",
      "{'body_length': 3657, 'channels': 8, 'country': 'CA', 'currency': 'CAD', 'delivery_method': 1.0, 'description': '<p><span style=\"color: #333333;\"><span style=\"font-size: 18px;\"><strong><span style=\"font-family: verdana,geneva,sans-serif;\">CRIC Workshop | Building Your Small Biz Website and Social Media Tools<br /></span></strong></span></span></p>\\r\\n<p class=\"MsoNormal\"><strong><span style=\"font-family: verdana,geneva; color: #333333;\">Monday, </span></strong><strong><span style=\"font-family: verdana,geneva; color: #333333;\"><strong><span style=\"font-family: verdana,geneva; color: #333333;\">November 26</span></strong>, 2012 - 7:00 pm - 9:00 pm</span></strong></p>\\r\\n<p class=\"MsoNormal\"><strong><span style=\"font-family: verdana,geneva; color: #333333;\">Monday, December 10, 2012 - 7:00 pm - 9:00 pm</span></strong></p>\\r\\n<p class=\"MsoNormal\"><span style=\"color: #333399;\"><strong><span style=\"font-family: verdana,geneva;\"><span style=\"font-size: x-small;\">(Note: both workshops are included in the price)</span><br /></span></strong></span></p>\\r\\n<hr />\\r\\n<p class=\"MsoNormal\"><span style=\"font-family: verdana,geneva; color: #333333;\"><br /></span></p>\\r\\n<p><span style=\"font-size: 13px;\"><span style=\"font-family: verdana,geneva,sans-serif;\">Can your business afford NOT to have a website these days?<br /><br /> In the past, the cost of a website was prohibitive to small business—but not anymore!<br /><br /> <span style=\"text-decoration: underline;\"><strong>In part one of our workshop series (November 26)</strong></span> learn how to use a free website tool to build a professional looking website with all the bells and whistles!</span></span></p>\\r\\n<p><span style=\"font-size: 13px;\"><span style=\"font-family: verdana,geneva,sans-serif;\"><br /></span></span></p>\\r\\n<p><span style=\"font-size: 13px;\"><span style=\"font-family: verdana,geneva,sans-serif;\"><span style=\"text-decoration: underline;\"><strong>In part two (December 10)</strong></span> learn about social media and how you can use it to drive traffic to your website and market your business! <br /></span></span></p>\\r\\n<p class=\"MsoNormal\">\\xa0</p>\\r\\n<p class=\"MsoNormal\"><span style=\"color: #333333;\"><strong><span style=\"font-family: verdana,geneva;\">Manual &amp; CRIC membership included.</span></strong></span></p>\\r\\n<p class=\"MsoNormal\">\\xa0</p>\\r\\n<p class=\"MsoNormal\"><span style=\"font-family: verdana,geneva; color: #333333;\"><strong>For more information</strong> </span></p>\\r\\n<p><span style=\"font-size: 13px;\"><span style=\"font-family: verdana,geneva,sans-serif;\">Frédérick Perrier </span></span></p>\\r\\n<p><span style=\"font-size: 13px;\"><span style=\"font-family: verdana,geneva,sans-serif;\">450-264-5510</span></span></p>\\r\\n<p><a href=\"mailto:frederick.perrier@cedec.ca\"><span style=\"font-size: 13px;\"><span style=\"font-family: verdana,geneva,sans-serif;\">frederick.perrier@cedec.ca</span></span></a></p>\\r\\n<p>\\xa0</p>\\r\\n<p><span style=\"font-size: 13px;\"><span style=\"font-family: verdana,geneva,sans-serif;\">April Stewart</span></span></p>\\r\\n<p><span style=\"font-size: 13px;\"><span style=\"font-family: verdana,geneva,sans-serif;\"><span style=\"color: #333333;\">450 264-5510</span></span></span></p>\\r\\n<p><span style=\"font-size: 13px;\"><span style=\"font-family: verdana,geneva,sans-serif;\"><a href=\"mailto:april.stewart@cedec.ca\" data-cke-saved-href=\"mailto:april.stewart@cedec.ca\">april.stewart@cedec.ca</a></span></span><br /><br /></p>\\r\\n<p>\\xa0</p>\\r\\n<p><a href=\"http://www.cedec.ca/sbsn\" data-cke-saved-href=\"http://www.cedec.ca/sbsn\"><span style=\"font-size: 13px;\"><span style=\"font-family: verdana,geneva,sans-serif;\">www.cedec.ca/sbsn</span></span></a></p>\\r\\n<p class=\"MsoNormal\"><img  alt=\"\" width=\"590\" height=\"261\" /><br /><br /></p>', 'email_domain': 'cedec.ca', 'event_created': 1350915216, 'event_end': 1355202000, 'event_published': 1351008255.0, 'event_start': 1353985200, 'fb_published': 0, 'has_analytics': 0, 'has_header': 0.0, 'has_logo': 1, 'listed': 'y', 'name': 'CRIC Workshop | Building Your Small Business Website and Social Media Tools', 'name_length': 75, 'object_id': 4651392, 'org_desc': '<p><strong>CEDEC Small Business Support Network (SBSN)</strong> addresses the need for English-language support for Quebec entrepreneurs.</p>\\r\\n<p><strong>OUR MISSION</strong> is to support communities across Quebec by providing personalized business development services in English. And we follow through with every client to make sure they have the tools to succeed.</p>\\r\\n<p><strong>WHAT WE DO</strong></p>\\r\\n<ul>\\r\\n<li>Coordinate and deliver business development courses and information sessions in English in communities across Quebec</li>\\r\\n<li>Create networking opportunities that encourage B2B relationships</li>\\r\\n<li>Support both formal and informal mentoring</li>\\r\\n<li>Connect entrepreneurs to service providers and organizations</li>\\r\\n<li>Promote and celebrate small business in Quebec through our website, monthly e-newsletter, tradeshows, special events, publications and marketing campaigns</li>\\r\\n</ul>\\r\\n<p><strong></strong>&nbsp;</p>\\r\\n<p><strong>OUR MEMBERS BENEFIT FROM</strong></p>\\r\\n<ul>\\r\\n<li>Expanded connections and resources</li>\\r\\n<li>Increased visibility</li>\\r\\n<li>Event discounts</li>\\r\\n<li>Enhanced business support</li>\\r\\n</ul>\\r\\n<p><strong></strong>&nbsp;</p>\\r\\n<p><strong>BECOME A MEMBER TODAY!</strong></p>\\r\\n<p>Fill out our online form at <a href=\"http://www.cedec.ca/sbsn/become-a-member/\">http://www.cedec.ca/sbsn/become-a-member/</a></p>\\r\\n<p>&nbsp;</p>\\r\\n<p>&nbsp;</p>', 'org_facebook': 9.0, 'org_name': 'CEDEC Small Business Support Network', 'org_twitter': 9.0, 'payee_name': '', 'payout_type': 'ACH', 'previous_payouts': [{'name': '', 'created': '2011-01-13 00:00:00', 'country': 'CA', 'amount': 219.66, 'state': '', 'address': '', 'uid': 8281691, 'event': 1037341, 'zip_code': ''}, {'name': '', 'created': '2011-01-31 01:12:34', 'country': 'CA', 'amount': 22.51, 'state': '', 'address': '', 'uid': 8281691, 'event': 1144041, 'zip_code': ''}, {'name': '', 'created': '2011-02-13 01:12:19', 'country': 'CA', 'amount': 25.28, 'state': '', 'address': '', 'uid': 8281691, 'event': 1144173, 'zip_code': ''}, {'name': '', 'created': '2011-02-20 01:12:15', 'country': 'CA', 'amount': 30.87, 'state': '', 'address': '', 'uid': 8281691, 'event': 1277409, 'zip_code': ''}, {'name': '', 'created': '2011-02-28 01:13:27', 'country': 'CA', 'amount': 75.69, 'state': '', 'address': '', 'uid': 8281691, 'event': 1305849, 'zip_code': ''}, {'name': '', 'created': '2011-03-14 01:13:39', 'country': 'CA', 'amount': 17.81, 'state': '', 'address': '', 'uid': 8281691, 'event': 1334699, 'zip_code': ''}, {'name': '', 'created': '2011-03-20 01:13:34', 'country': 'CA', 'amount': 30.87, 'state': '', 'address': '', 'uid': 8281691, 'event': 1332093, 'zip_code': ''}, {'name': '', 'created': '2011-04-04 01:14:27', 'country': 'CA', 'amount': 17.81, 'state': '', 'address': '', 'uid': 8281691, 'event': 1334755, 'zip_code': ''}, {'name': '', 'created': '2011-05-11 01:13:37', 'country': 'CA', 'amount': 10.29, 'state': '', 'address': '', 'uid': 8281691, 'event': 1551529, 'zip_code': ''}, {'name': '', 'created': '2011-05-14 01:13:27', 'country': 'CA', 'amount': 123.68, 'state': '', 'address': '', 'uid': 8281691, 'event': 1537449, 'zip_code': ''}, {'name': '', 'created': '2011-05-29 01:13:05', 'country': 'CA', 'amount': 10.29, 'state': '', 'address': '', 'uid': 8281691, 'event': 1566177, 'zip_code': ''}, {'name': '', 'created': '2011-06-12 01:13:51', 'country': 'CA', 'amount': 20.58, 'state': '', 'address': '', 'uid': 8281691, 'event': 1692219, 'zip_code': ''}, {'name': '', 'created': '2011-06-26 01:11:21', 'country': 'CA', 'amount': 56.15, 'state': '', 'address': '', 'uid': 8281691, 'event': 1692561, 'zip_code': ''}, {'name': '', 'created': '2011-06-27 01:11:25', 'country': 'CA', 'amount': 143.47, 'state': '', 'address': '', 'uid': 8281691, 'event': 1748927, 'zip_code': ''}, {'name': '', 'created': '2011-06-27 01:11:26', 'country': 'CA', 'amount': 41.16, 'state': '', 'address': '', 'uid': 8281691, 'event': 1749009, 'zip_code': ''}, {'name': '', 'created': '2011-09-25 01:11:06', 'country': 'CA', 'amount': 169.69, 'state': '', 'address': '', 'uid': 8281691, 'event': 2059887, 'zip_code': ''}, {'name': '', 'created': '2011-10-02 01:11:04', 'country': 'CA', 'amount': 66.54, 'state': '', 'address': '', 'uid': 8281691, 'event': 2092393, 'zip_code': ''}, {'name': '', 'created': '2011-10-31 01:11:23', 'country': 'CA', 'amount': 92.76, 'state': '', 'address': '', 'uid': 8281691, 'event': 2204222, 'zip_code': ''}, {'name': '', 'created': '2011-11-01 01:10:54', 'country': 'CA', 'amount': 1271.46, 'state': '', 'address': '', 'uid': 8281691, 'event': 2175224, 'zip_code': ''}, {'name': '', 'created': '2011-11-15 03:11:56', 'country': 'CA', 'amount': 882.6, 'state': '', 'address': '', 'uid': 8281691, 'event': 2034775, 'zip_code': ''}, {'name': '', 'created': '2011-11-28 03:10:58', 'country': 'CA', 'amount': 42.05, 'state': '', 'address': '', 'uid': 8281691, 'event': 2476940, 'zip_code': ''}, {'name': '', 'created': '2011-11-29 03:11:56', 'country': 'CA', 'amount': 486.07, 'state': '', 'address': '', 'uid': 8281691, 'event': 2298628, 'zip_code': ''}, {'name': '', 'created': '2011-12-03 03:11:58', 'country': 'CA', 'amount': 61.84, 'state': '', 'address': '', 'uid': 8281691, 'event': 2113321, 'zip_code': ''}, {'name': '', 'created': '2011-12-11 03:12:41', 'country': 'CA', 'amount': 146.44, 'state': '', 'address': '', 'uid': 8281691, 'event': 2552928, 'zip_code': ''}, {'name': '', 'created': '2011-12-12 03:11:06', 'country': 'CA', 'amount': 156.58, 'state': '', 'address': '', 'uid': 8281691, 'event': 2504860, 'zip_code': ''}, {'name': '', 'created': '2012-02-11 03:11:51', 'country': 'CA', 'amount': 39.33, 'state': '', 'address': '', 'uid': 8281691, 'event': 2760531, 'zip_code': ''}, {'name': '', 'created': '2012-02-18 03:12:07', 'country': 'CA', 'amount': 363.13, 'state': '', 'address': '', 'uid': 8281691, 'event': 2737643, 'zip_code': ''}, {'name': '', 'created': '2012-02-26 03:12:04', 'country': 'CA', 'amount': 41.16, 'state': '', 'address': '', 'uid': 8281691, 'event': 2824469, 'zip_code': ''}, {'name': '', 'created': '2012-03-17 03:12:30', 'country': 'CA', 'amount': 39.33, 'state': '', 'address': '', 'uid': 8281691, 'event': 2992735, 'zip_code': ''}, {'name': '', 'created': '2012-03-19 03:12:53', 'country': 'CA', 'amount': 228.07, 'state': '', 'address': '', 'uid': 8281691, 'event': 2926659, 'zip_code': ''}, {'name': '', 'created': '2012-03-27 03:12:44', 'country': 'CA', 'amount': 71.24, 'state': '', 'address': '', 'uid': 8281691, 'event': 3036581, 'zip_code': ''}, {'name': '', 'created': '2012-04-02 03:12:57', 'country': 'CA', 'amount': 39.33, 'state': '', 'address': '', 'uid': 8281691, 'event': 3081341, 'zip_code': ''}, {'name': '', 'created': '2012-04-23 03:14:31', 'country': 'CA', 'amount': 139.76, 'state': '', 'address': '', 'uid': 8281691, 'event': 3241857, 'zip_code': ''}, {'name': '', 'created': '2012-04-30 03:14:13', 'country': 'CA', 'amount': 35.0, 'state': '', 'address': '', 'uid': 8281691, 'event': 3246447, 'zip_code': ''}, {'name': '', 'created': '2012-05-12 03:13:44', 'country': 'CA', 'amount': 60.0, 'state': '', 'address': '', 'uid': 8281691, 'event': 3269941, 'zip_code': ''}, {'name': '', 'created': '2012-06-04 03:13:21', 'country': 'CA', 'amount': 486.57, 'state': '', 'address': '', 'uid': 8281691, 'event': 3271873, 'zip_code': ''}, {'name': '', 'created': '2012-06-23 03:12:54', 'country': 'CA', 'amount': 8.41, 'state': '', 'address': '', 'uid': 8281691, 'event': 3678006, 'zip_code': ''}, {'name': '', 'created': '2012-06-24 03:13:40', 'country': 'CA', 'amount': 13.11, 'state': '', 'address': '', 'uid': 8281691, 'event': 3679426, 'zip_code': ''}, {'name': '', 'created': '2012-06-24 03:13:53', 'country': 'CA', 'amount': 184.78, 'state': '', 'address': '', 'uid': 8281691, 'event': 3686100, 'zip_code': ''}, {'name': '', 'created': '2012-07-02 03:13:55', 'country': 'CA', 'amount': 131.1, 'state': '', 'address': '', 'uid': 8281691, 'event': 3684742, 'zip_code': ''}, {'name': '', 'created': '2012-07-02 03:14:01', 'country': 'CA', 'amount': 100.0, 'state': '', 'address': '', 'uid': 8281691, 'event': 3669866, 'zip_code': ''}, {'name': '', 'created': '2012-09-24 03:16:45', 'country': 'CA', 'amount': 55.41, 'state': '', 'address': '', 'uid': 8281691, 'event': 3982574, 'zip_code': ''}, {'name': '', 'created': '2012-10-01 03:16:30', 'country': 'CA', 'amount': 43.44, 'state': '', 'address': '', 'uid': 8281691, 'event': 3851510, 'zip_code': ''}, {'name': '', 'created': '2012-10-06 03:21:41', 'country': 'CA', 'amount': 53.43, 'state': '', 'address': '', 'uid': 8281691, 'event': 4311694, 'zip_code': ''}, {'name': '', 'created': '2012-10-22 03:16:44', 'country': 'CA', 'amount': 4746.78, 'state': '', 'address': '', 'uid': 8281691, 'event': 4287254, 'zip_code': ''}], 'sale_duration': 34.0, 'show_map': 1, 'ticket_types': [{'event_id': 4651392, 'cost': 36.61, 'availability': 1, 'quantity_total': 25}, {'event_id': 4651392, 'cost': 46.01, 'availability': 1, 'quantity_total': 25}], 'user_age': 714, 'user_created': 1289255732, 'user_type': 3, 'venue_address': '11 Dalhousie Street', 'venue_country': 'CA', 'venue_latitude': 45.0874941, 'venue_longitude': -74.1737075, 'venue_name': 'CRIC Huntingdon', 'venue_state': 'Quebec', 'sequence_number': 2925}\n",
      "\n",
      "in true\n",
      "in true\n",
      "in true\n",
      "in false\n",
      "Waiting 30 seconds...\n",
      "Requesting data...\n",
      "No new data received.\n",
      "Waiting 30 seconds...\n",
      "Requesting data...\n",
      "No new data received.\n",
      "Waiting 30 seconds...\n",
      "Requesting data...\n",
      "No new data received.\n",
      "Waiting 30 seconds...\n",
      "Requesting data...\n",
      "No new data received.\n",
      "Waiting 30 seconds...\n",
      "Requesting data...\n",
      "Saving...\n",
      "Received data:\n",
      "{'body_length': 186, 'channels': 6, 'country': 'US', 'currency': 'USD', 'delivery_method': 0.0, 'description': '<p><img title=\"Pack of Laughs - Barking Dog\"  alt=\"Pack of Laughs\" width=\"600\" height=\"840\" /></p>', 'email_domain': 'districtcomedy.com', 'event_created': 1351605055, 'event_end': 1354168800, 'event_published': 1351605378.0, 'event_start': 1354158000, 'fb_published': 0, 'has_analytics': 0, 'has_header': None, 'has_logo': 1, 'listed': 'y', 'name': 'Pack of Laughs 22', 'name_length': 17, 'object_id': 4712931, 'org_desc': '', 'org_facebook': 14.0, 'org_name': 'District Comedy', 'org_twitter': 14.0, 'payee_name': '', 'payout_type': 'ACH', 'previous_payouts': [{'name': '', 'created': '2011-11-24 03:12:23', 'country': 'US', 'amount': 60.0, 'state': '', 'address': '', 'uid': 22688420, 'event': 2439288, 'zip_code': ''}, {'name': '', 'created': '2012-02-23 03:13:17', 'country': 'US', 'amount': 269.91, 'state': '', 'address': '', 'uid': 22688420, 'event': 2792579, 'zip_code': ''}, {'name': '', 'created': '2012-06-28 03:14:15', 'country': 'US', 'amount': 360.0, 'state': '', 'address': '', 'uid': 22688420, 'event': 3687114, 'zip_code': ''}, {'name': '', 'created': '2012-07-26 03:14:58', 'country': 'US', 'amount': 579.76, 'state': '', 'address': '', 'uid': 22688420, 'event': 3813336, 'zip_code': ''}, {'name': '', 'created': '2012-10-15 03:16:43', 'country': 'US', 'amount': 111.9, 'state': '', 'address': '', 'uid': 22688420, 'event': 4389976, 'zip_code': ''}], 'sale_duration': 29.0, 'show_map': 1, 'ticket_types': [{'event_id': 4712931, 'cost': 3.73, 'availability': 1, 'quantity_total': 100}], 'user_age': 364, 'user_created': 1320154886, 'user_type': 3, 'venue_address': '4723 Elm St', 'venue_country': 'US', 'venue_latitude': 38.982222, 'venue_longitude': -77.0952563, 'venue_name': 'The Barking Dog, Bethesda', 'venue_state': 'MD', 'sequence_number': 2926}\n",
      "\n",
      "Waiting 30 seconds...\n",
      "Requesting data...\n",
      "No new data received.\n",
      "Waiting 30 seconds...\n",
      "Requesting data...\n",
      "No new data received.\n",
      "Waiting 30 seconds...\n",
      "Requesting data...\n",
      "No new data received.\n",
      "Waiting 30 seconds...\n",
      "Requesting data...\n",
      "No new data received.\n",
      "Waiting 30 seconds...\n",
      "Requesting data...\n",
      "No new data received.\n",
      "Waiting 30 seconds...\n",
      "Requesting data...\n",
      "Saving...\n",
      "Received data:\n",
      "{'body_length': 3810, 'channels': 5, 'country': 'US', 'currency': 'USD', 'delivery_method': 0.0, 'description': '<p><object style=\"display: block; margin-left: auto; margin-right: auto;\" width=\"420\" height=\"315\" data=\"http://www.youtube.com/v/dg0fwakFaWU?version=3&amp;hl=en_US\" type=\"application/x-shockwave-flash\"><param name=\"allowFullScreen\" value=\"true\" /><param name=\"allowscriptaccess\" value=\"always\" /><param name=\"src\" value=\"http://www.youtube.com/v/dg0fwakFaWU?version=3&amp;hl=en_US\" /><param name=\"allowfullscreen\" value=\"true\" /></object></p>\\r\\n<p>\\xa0</p>\\r\\n<p>\\xa0</p>\\r\\n<p><object style=\"display: block; margin-left: auto; margin-right: auto;\" width=\"560\" height=\"315\" data=\"http://www.youtube.com/v/RoLwgMqaU7I?version=3&amp;hl=en_US\" type=\"application/x-shockwave-flash\"><param name=\"allowFullScreen\" value=\"true\" /><param name=\"allowscriptaccess\" value=\"always\" /><param name=\"src\" value=\"http://www.youtube.com/v/RoLwgMqaU7I?version=3&amp;hl=en_US\" /><param name=\"allowfullscreen\" value=\"true\" /></object></p>\\r\\n<p><span style=\"font-size: small;\"><object style=\"display: block; margin-left: auto; margin-right: auto;\" width=\"560\" height=\"315\" data=\"http://www.youtube.com/v/KFTH4Q4_XzA?version=3&amp;hl=en_US\" type=\"application/x-shockwave-flash\"><param name=\"allowFullScreen\" value=\"true\" /><param name=\"allowscriptaccess\" value=\"always\" /><param name=\"src\" value=\"http://www.youtube.com/v/KFTH4Q4_XzA?version=3&amp;hl=en_US\" /><param name=\"allowfullscreen\" value=\"true\" /></object><img  alt=\"\" width=\"600\" height=\"388\" /><br /></span></p>\\r\\n<p><span style=\"font-size: small;\"><br /></span></p>\\r\\n<p><span style=\"font-size: small;\"><br /></span></p>\\r\\n<p><span style=\"font-size: small;\"><br /></span></p>\\r\\n<p><span style=\"font-size: small;\"><br /></span></p>\\r\\n<p><span style=\"font-size: small;\"><br /></span></p>\\r\\n<p><span style=\"font-size: small;\"><br /></span></p>\\r\\n<p><span style=\"font-size: small;\"><br /></span></p>\\r\\n<p style=\"text-align: center;\"><span style=\"font-size: small;\"><object width=\"560\" height=\"315\" data=\"http://www.youtube.com/v/-p0bNOxBhgc?version=3&amp;hl=en_US\" type=\"application/x-shockwave-flash\"><param name=\"allowFullScreen\" value=\"true\" /><param name=\"allowscriptaccess\" value=\"always\" /><param name=\"src\" value=\"http://www.youtube.com/v/-p0bNOxBhgc?version=3&amp;hl=en_US\" /><param name=\"allowfullscreen\" value=\"true\" /></object><br /></span></p>\\r\\n<p><span style=\"font-size: small;\"><br /></span></p>\\r\\n<p><span style=\"font-size: small;\"><br /></span></p>\\r\\n<p><span style=\"font-size: small;\"><br /></span></p>\\r\\n<p><span style=\"font-size: small;\"><br /></span></p>\\r\\n<p><span style=\"font-size: small;\"><br /></span></p>\\r\\n<p><span style=\"font-size: small;\"><br /></span></p>\\r\\n<p><span style=\"font-size: small;\"><br /></span></p>\\r\\n<p><span style=\"font-size: small;\"><br /></span></p>\\r\\n<p><span style=\"font-size: small;\"><br /></span></p>\\r\\n<p><span style=\"font-size: small;\"><br /></span></p>\\r\\n<p><span style=\"font-size: small;\"><br /></span></p>\\r\\n<p><span style=\"font-size: small;\"><br /></span></p>\\r\\n<p><span style=\"font-size: small;\"><br /></span></p>\\r\\n<p><span style=\"font-size: small;\"><br /></span></p>\\r\\n<p><span style=\"font-size: small;\"><br /></span></p>\\r\\n<p><span style=\"font-size: small;\"><br /></span></p>\\r\\n<p><span style=\"font-size: small;\"><br /></span></p>\\r\\n<p><span style=\"font-size: small;\"><br /></span></p>\\r\\n<p><span style=\"font-size: small;\"><br /></span></p>\\r\\n<p><span style=\"font-size: small;\"><br /></span></p>\\r\\n<p><span style=\"font-size: small;\"><br /></span></p>\\r\\n<p><span style=\"font-size: small;\"><br /></span></p>\\r\\n<p><span style=\"font-size: small;\"><br /></span></p>\\r\\n<p><span style=\"font-size: small;\"><br /></span></p>\\r\\n<p><span style=\"font-size: small;\"><br /></span></p>\\r\\n<p><span style=\"font-size: small;\"><br /></span></p>\\r\\n<p><span style=\"font-size: small;\"><br /></span></p>', 'email_domain': 'gmail.com', 'event_created': 1351917141, 'event_end': 1353236400, 'event_published': 1352336510.0, 'event_start': 1353128400, 'fb_published': 0, 'has_analytics': 0, 'has_header': 0.0, 'has_logo': 1, 'listed': 'y', 'name': 'CLASSIC WEEKEND\" DJ KHALID,PLIES,GUCCI MANE LIVE @ ORLANDO LIVE AKA LAX!!! FRIDAY 16,17TH,18', 'name_length': 92, 'object_id': 4744413, 'org_desc': '<p><span style=\"font-size: medium;\">Classic Wknd! Orlando Floridai, \"LAX\" NOW Orlando Live is the only place to party! thursday Rocko,Friday Dj Khaled Performing Live,Saturday King Of Diamonds Fight Night \"PLIES\" Live hosted by Disco Rick, Sunday it\\'s Gucci Mane Mix tape Realease Party! KING OF DIAMONDS VS THE KING OF ORLANDO</span></p>', 'org_facebook': 0.0, 'org_name': 'NELSON INC.....', 'org_twitter': 0.0, 'payee_name': '', 'payout_type': 'ACH', 'previous_payouts': [{'name': 'PARTY STARZ ENT INC', 'created': '2010-07-08 01:10:16', 'country': 'US', 'amount': 20.0, 'state': 'FL', 'address': '775 NE 180 TH street', 'uid': 2818575, 'event': 578389, 'zip_code': '33162'}, {'name': 'Jason Phillips', 'created': '2010-07-15 01:10:36', 'country': 'US', 'amount': 460.0, 'state': 'FL', 'address': '775 NE 180th Street', 'uid': 2818575, 'event': 751295, 'zip_code': '33162'}, {'name': '', 'created': '2011-11-27 03:11:41', 'country': 'US', 'amount': 1550.0, 'state': '', 'address': '', 'uid': 2818575, 'event': 1104127, 'zip_code': ''}, {'name': '', 'created': '2012-01-19 03:11:43', 'country': 'US', 'amount': 1100.0, 'state': '', 'address': '', 'uid': 2818575, 'event': 2687179, 'zip_code': ''}, {'name': '', 'created': '2012-05-18 03:14:00', 'country': 'US', 'amount': 20.0, 'state': '', 'address': '', 'uid': 2818575, 'event': 3494235, 'zip_code': ''}, {'name': '', 'created': '2012-06-01 03:12:44', 'country': 'US', 'amount': 200.0, 'state': '', 'address': '', 'uid': 2818575, 'event': 3448931, 'zip_code': ''}], 'sale_duration': 9.0, 'show_map': 0, 'ticket_types': [{'event_id': 4744413, 'cost': 150.0, 'availability': 1, 'quantity_total': 300}, {'event_id': 4744413, 'cost': 300.0, 'availability': 1, 'quantity_total': 300}, {'event_id': 4744413, 'cost': 50.0, 'availability': 1, 'quantity_total': 100}, {'event_id': 4744413, 'cost': 100.0, 'availability': 1, 'quantity_total': 100}, {'event_id': 4744413, 'cost': 50.0, 'availability': 1, 'quantity_total': 300}, {'event_id': 4744413, 'cost': 100.0, 'availability': 1, 'quantity_total': 300}, {'event_id': 4744413, 'cost': 50.0, 'availability': 1, 'quantity_total': 300}, {'event_id': 4744413, 'cost': 100.0, 'availability': 1, 'quantity_total': 300}, {'event_id': 4744413, 'cost': 300.0, 'availability': 1, 'quantity_total': 50}, {'event_id': 4744413, 'cost': 100.0, 'availability': 1, 'quantity_total': 50}, {'event_id': 4744413, 'cost': 100.0, 'availability': 1, 'quantity_total': 50}, {'event_id': 4744413, 'cost': 100.0, 'availability': 1, 'quantity_total': 50}], 'user_age': 1068, 'user_created': 1259613950, 'user_type': 1, 'venue_address': '7430 UNIVERSAL BLVD', 'venue_country': 'US', 'venue_latitude': 28.455331, 'venue_longitude': -81.466258, 'venue_name': 'ORLANDO LIVE (LAX)', 'venue_state': 'FL', 'sequence_number': 2927}\n",
      "\n",
      "Waiting 30 seconds...\n",
      "Requesting data...\n",
      "No new data received.\n",
      "Waiting 30 seconds...\n",
      "Requesting data...\n",
      "No new data received.\n",
      "Waiting 30 seconds...\n",
      "Requesting data...\n",
      "No new data received.\n",
      "Waiting 30 seconds...\n"
     ]
    }
   ],
   "source": [
    "class EventAPIClient:\n",
    "    \"\"\"Realtime Events API Client\"\"\"\n",
    "    \n",
    "    def __init__(self, first_sequence_number=0,\n",
    "                 api_url = 'https://hxobin8em5.execute-api.us-west-2.amazonaws.com/api/',\n",
    "                 api_key = 'vYm9mTUuspeyAWH1v-acfoTlck-tCxwTw9YfCynC',\n",
    "                 db = None):\n",
    "        \"\"\"Initialize the API client.\"\"\"\n",
    "        self.next_sequence_number = first_sequence_number\n",
    "        self.api_url = api_url\n",
    "        self.api_key = api_key\n",
    "        \n",
    "    def save_to_database(self, row):\n",
    "        \"\"\"Save a data row to the database.\"\"\"\n",
    "        print(\"Received data:\\n\" + repr(row) + \"\\n\")  # replace this with your code\n",
    "        table.insert_one(row)\n",
    "        !python pipeline.py\n",
    "\n",
    "    def get_data(self):\n",
    "        \"\"\"Fetch data from the API.\"\"\"\n",
    "        payload = {'api_key': self.api_key,\n",
    "                   'sequence_number': self.next_sequence_number}\n",
    "        response = requests.post(self.api_url, json=payload)\n",
    "        data = response.json()\n",
    "        self.next_sequence_number = data['_next_sequence_number']\n",
    "        return data['data']\n",
    "    \n",
    "    def collect(self, interval=30):\n",
    "        \"\"\"Check for new data from the API periodically.\"\"\"\n",
    "        while True:\n",
    "            print(\"Requesting data...\")\n",
    "            data = self.get_data()\n",
    "            if data:\n",
    "                print(\"Saving...\")\n",
    "                for row in data:\n",
    "                    self.save_to_database(row)\n",
    "            else:\n",
    "                print(\"No new data received.\")\n",
    "            print(f\"Waiting {interval} seconds...\")\n",
    "            time.sleep(interval)\n",
    "\n",
    "\n",
    "# Usage Example\n",
    "\n",
    "client = EventAPIClient()\n",
    "client.collect()"
   ]
  },
  {
   "cell_type": "code",
   "execution_count": null,
   "metadata": {},
   "outputs": [],
   "source": [
    "a = table.find()"
   ]
  },
  {
   "cell_type": "code",
   "execution_count": null,
   "metadata": {},
   "outputs": [],
   "source": [
    "df2 = pd.DataFrame(list(a))"
   ]
  },
  {
   "cell_type": "code",
   "execution_count": null,
   "metadata": {},
   "outputs": [],
   "source": [
    "df2"
   ]
  },
  {
   "cell_type": "code",
   "execution_count": null,
   "metadata": {},
   "outputs": [],
   "source": [
    "for each_row in df2['object_id']:\n",
    "    print(each_row)"
   ]
  },
  {
   "cell_type": "code",
   "execution_count": null,
   "metadata": {},
   "outputs": [],
   "source": [
    "len(df2['object_id'])"
   ]
  },
  {
   "cell_type": "code",
   "execution_count": null,
   "metadata": {},
   "outputs": [],
   "source": [
    "df2.iloc[0,:]"
   ]
  },
  {
   "cell_type": "code",
   "execution_count": 19,
   "metadata": {},
   "outputs": [
    {
     "name": "stdout",
     "output_type": "stream",
     "text": [
      "_id                                                  5ed13860a7d99bea72642197\n",
      "body_length                                                             33372\n",
      "channels                                                                    8\n",
      "country                                                                    US\n",
      "currency                                                                  USD\n",
      "delivery_method                                                             1\n",
      "description                 <p class=\"MsoNormal\" style=\"text-align: justif...\n",
      "email_domain                                                    creighton.edu\n",
      "event_created                                                      1348777303\n",
      "event_end                                                          1365897600\n",
      "event_published                                                   1.34878e+09\n",
      "event_start                                                        1365823800\n",
      "fb_published                                                                0\n",
      "has_analytics                                                               0\n",
      "has_header                                                                  1\n",
      "has_logo                                                                    0\n",
      "listed                                                                      y\n",
      "name                                     Pharmacy-Based Immunization Delivery\n",
      "name_length                                                                36\n",
      "object_id                                                             4454910\n",
      "org_desc                                                                     \n",
      "org_facebook                                                                0\n",
      "org_name                                                                     \n",
      "org_twitter                                                                 0\n",
      "payee_name                                     Creighton University, SPAHP CE\n",
      "payout_type                                                             CHECK\n",
      "previous_payouts            [{'name': 'Creighton University, SPAHP CE', 'c...\n",
      "sale_duration                                                             197\n",
      "show_map                                                                    1\n",
      "ticket_types                [{'event_id': 4454910, 'cost': 375.0, 'availab...\n",
      "user_age                                                                  625\n",
      "user_created                                                       1294765484\n",
      "user_type                                                                   3\n",
      "venue_address                                           2500 California Plaza\n",
      "venue_country                                                              US\n",
      "venue_latitude                                                        41.2654\n",
      "venue_longitude                                                      -95.9483\n",
      "venue_name                                                                   \n",
      "venue_state                                                                  \n",
      "sequence_number                                                          2907\n",
      "previous_payouts_length                                                    10\n",
      "previous_payouts_length_                                                    1\n",
      "ticket_type_length                                                      False\n",
      "gross_profits                                                            6375\n",
      "gross_profits_dummie                                                        4\n",
      "Name: 0, dtype: object\n",
      "_id                                                  5ed138d9a7d99bea72642198\n",
      "body_length                                                             10921\n",
      "channels                                                                    5\n",
      "country                                                                    US\n",
      "currency                                                                  USD\n",
      "delivery_method                                                             1\n",
      "description                 <p><span style=\"font-family: verdana, geneva; ...\n",
      "email_domain                                                  hortonworks.com\n",
      "event_created                                                      1348778808\n",
      "event_end                                                          1354237200\n",
      "event_published                                                   1.34878e+09\n",
      "event_start                                                        1354035600\n",
      "fb_published                                                                0\n",
      "has_analytics                                                               0\n",
      "has_header                                                                NaN\n",
      "has_logo                                                                    0\n",
      "listed                                                                      y\n",
      "name                        Administering Apache Hadoop-Boston-November 27-29\n",
      "name_length                                                                49\n",
      "object_id                                                             4455136\n",
      "org_desc                    <p><span style=\"color: #454545; font-family: H...\n",
      "org_facebook                                                                0\n",
      "org_name                                         Hortonworks, Inc. & Guident \n",
      "org_twitter                                                                 0\n",
      "payee_name                                                                   \n",
      "payout_type                                                               ACH\n",
      "previous_payouts            [{'name': '', 'created': '2011-12-21 03:12:27'...\n",
      "sale_duration                                                              61\n",
      "show_map                                                                    1\n",
      "ticket_types                [{'event_id': 4455136, 'cost': 1818.98, 'avail...\n",
      "user_age                                                                  350\n",
      "user_created                                                       1318530713\n",
      "user_type                                                                   3\n",
      "venue_address                                                   263 Summer St\n",
      "venue_country                                                              US\n",
      "venue_latitude                                                        42.3502\n",
      "venue_longitude                                                      -71.0506\n",
      "venue_name                                                         CompuWorks\n",
      "venue_state                                                                MA\n",
      "sequence_number                                                          2908\n",
      "previous_payouts_length                                                    30\n",
      "previous_payouts_length_                                                    1\n",
      "ticket_type_length                                                      False\n",
      "gross_profits                                                         57617.7\n",
      "gross_profits_dummie                                                        4\n",
      "Name: 1, dtype: object\n",
      "_id                                                  5ed13970a7d99bea72642199\n",
      "body_length                                                               616\n",
      "channels                                                                    0\n",
      "country                                                                    US\n",
      "currency                                                                  USD\n",
      "delivery_method                                                             1\n",
      "description                 <p>BohConf is a 1-day, multi-track, unconf-ins...\n",
      "email_domain                                                        gmail.com\n",
      "event_created                                                      1370034995\n",
      "event_end                                                          1374278400\n",
      "event_published                                                   1.37004e+09\n",
      "event_start                                                        1374192000\n",
      "fb_published                                                                0\n",
      "has_analytics                                                               1\n",
      "has_header                                                                  0\n",
      "has_logo                                                                    1\n",
      "listed                                                                      n\n",
      "name                                                             BohConf 2013\n",
      "name_length                                                                12\n",
      "object_id                                                             4455302\n",
      "org_desc                    <p><a href=\"http://www.smartlogicsolutions.com...\n",
      "org_facebook                                                                0\n",
      "org_name                                 SmartLogic & University of Baltimore\n",
      "org_twitter                                                                 0\n",
      "payee_name                                                       Yair Flicker\n",
      "payout_type                                                             CHECK\n",
      "previous_payouts            [{'name': 'Yair Flicker', 'created': '2011-05-...\n",
      "sale_duration                                                              48\n",
      "show_map                                                                    1\n",
      "ticket_types                [{'event_id': 4455302, 'cost': 47.5, 'availabi...\n",
      "user_age                                                                 1701\n",
      "user_created                                                       1223044447\n",
      "user_type                                                                   4\n",
      "venue_address                                            11 W Mount Royal Ave\n",
      "venue_country                                                              US\n",
      "venue_latitude                                                        39.3053\n",
      "venue_longitude                                                      -76.6167\n",
      "venue_name                     University of Baltimore Thumel Business Center\n",
      "venue_state                                                                MD\n",
      "sequence_number                                                          2909\n",
      "previous_payouts_length                                                     1\n",
      "previous_payouts_length_                                                    0\n",
      "ticket_type_length                                                      False\n",
      "gross_profits                                                           11580\n",
      "gross_profits_dummie                                                        4\n",
      "Name: 2, dtype: object\n"
     ]
    }
   ],
   "source": [
    "!python pipeline.py"
   ]
  },
  {
   "cell_type": "code",
   "execution_count": 9,
   "metadata": {},
   "outputs": [],
   "source": [
    "a = table.find()"
   ]
  },
  {
   "cell_type": "code",
   "execution_count": 10,
   "metadata": {},
   "outputs": [],
   "source": [
    "df2 = pd.DataFrame(list(a))"
   ]
  },
  {
   "cell_type": "code",
   "execution_count": 11,
   "metadata": {},
   "outputs": [
    {
     "data": {
      "text/html": [
       "<div>\n",
       "<style scoped>\n",
       "    .dataframe tbody tr th:only-of-type {\n",
       "        vertical-align: middle;\n",
       "    }\n",
       "\n",
       "    .dataframe tbody tr th {\n",
       "        vertical-align: top;\n",
       "    }\n",
       "\n",
       "    .dataframe thead th {\n",
       "        text-align: right;\n",
       "    }\n",
       "</style>\n",
       "<table border=\"1\" class=\"dataframe\">\n",
       "  <thead>\n",
       "    <tr style=\"text-align: right;\">\n",
       "      <th></th>\n",
       "      <th>_id</th>\n",
       "      <th>body_length</th>\n",
       "      <th>channels</th>\n",
       "      <th>country</th>\n",
       "      <th>currency</th>\n",
       "      <th>delivery_method</th>\n",
       "      <th>description</th>\n",
       "      <th>email_domain</th>\n",
       "      <th>event_created</th>\n",
       "      <th>event_end</th>\n",
       "      <th>...</th>\n",
       "      <th>user_age</th>\n",
       "      <th>user_created</th>\n",
       "      <th>user_type</th>\n",
       "      <th>venue_address</th>\n",
       "      <th>venue_country</th>\n",
       "      <th>venue_latitude</th>\n",
       "      <th>venue_longitude</th>\n",
       "      <th>venue_name</th>\n",
       "      <th>venue_state</th>\n",
       "      <th>sequence_number</th>\n",
       "    </tr>\n",
       "  </thead>\n",
       "  <tbody>\n",
       "    <tr>\n",
       "      <th>0</th>\n",
       "      <td>5ed13860a7d99bea72642197</td>\n",
       "      <td>33372</td>\n",
       "      <td>8</td>\n",
       "      <td>US</td>\n",
       "      <td>USD</td>\n",
       "      <td>1.0</td>\n",
       "      <td>&lt;p class=\"MsoNormal\" style=\"text-align: justif...</td>\n",
       "      <td>creighton.edu</td>\n",
       "      <td>1348777303</td>\n",
       "      <td>1365897600</td>\n",
       "      <td>...</td>\n",
       "      <td>625</td>\n",
       "      <td>1294765484</td>\n",
       "      <td>3</td>\n",
       "      <td>2500 California Plaza</td>\n",
       "      <td>US</td>\n",
       "      <td>41.265398</td>\n",
       "      <td>-95.948319</td>\n",
       "      <td></td>\n",
       "      <td></td>\n",
       "      <td>2907</td>\n",
       "    </tr>\n",
       "    <tr>\n",
       "      <th>1</th>\n",
       "      <td>5ed138d9a7d99bea72642198</td>\n",
       "      <td>10921</td>\n",
       "      <td>5</td>\n",
       "      <td>US</td>\n",
       "      <td>USD</td>\n",
       "      <td>1.0</td>\n",
       "      <td>&lt;p&gt;&lt;span style=\"font-family: verdana, geneva; ...</td>\n",
       "      <td>hortonworks.com</td>\n",
       "      <td>1348778808</td>\n",
       "      <td>1354237200</td>\n",
       "      <td>...</td>\n",
       "      <td>350</td>\n",
       "      <td>1318530713</td>\n",
       "      <td>3</td>\n",
       "      <td>263 Summer St</td>\n",
       "      <td>US</td>\n",
       "      <td>42.350219</td>\n",
       "      <td>-71.050625</td>\n",
       "      <td>CompuWorks</td>\n",
       "      <td>MA</td>\n",
       "      <td>2908</td>\n",
       "    </tr>\n",
       "    <tr>\n",
       "      <th>2</th>\n",
       "      <td>5ed13970a7d99bea72642199</td>\n",
       "      <td>616</td>\n",
       "      <td>0</td>\n",
       "      <td>US</td>\n",
       "      <td>USD</td>\n",
       "      <td>1.0</td>\n",
       "      <td>&lt;p&gt;BohConf is a 1-day, multi-track, unconf-ins...</td>\n",
       "      <td>gmail.com</td>\n",
       "      <td>1370034995</td>\n",
       "      <td>1374278400</td>\n",
       "      <td>...</td>\n",
       "      <td>1701</td>\n",
       "      <td>1223044447</td>\n",
       "      <td>4</td>\n",
       "      <td>11 W Mount Royal Ave</td>\n",
       "      <td>US</td>\n",
       "      <td>39.305344</td>\n",
       "      <td>-76.616723</td>\n",
       "      <td>University of Baltimore Thumel Business Center</td>\n",
       "      <td>MD</td>\n",
       "      <td>2909</td>\n",
       "    </tr>\n",
       "  </tbody>\n",
       "</table>\n",
       "<p>3 rows × 40 columns</p>\n",
       "</div>"
      ],
      "text/plain": [
       "                        _id  body_length  channels country currency  \\\n",
       "0  5ed13860a7d99bea72642197        33372         8      US      USD   \n",
       "1  5ed138d9a7d99bea72642198        10921         5      US      USD   \n",
       "2  5ed13970a7d99bea72642199          616         0      US      USD   \n",
       "\n",
       "   delivery_method                                        description  \\\n",
       "0              1.0  <p class=\"MsoNormal\" style=\"text-align: justif...   \n",
       "1              1.0  <p><span style=\"font-family: verdana, geneva; ...   \n",
       "2              1.0  <p>BohConf is a 1-day, multi-track, unconf-ins...   \n",
       "\n",
       "      email_domain  event_created   event_end  ...  user_age  user_created  \\\n",
       "0    creighton.edu     1348777303  1365897600  ...       625    1294765484   \n",
       "1  hortonworks.com     1348778808  1354237200  ...       350    1318530713   \n",
       "2        gmail.com     1370034995  1374278400  ...      1701    1223044447   \n",
       "\n",
       "   user_type          venue_address  venue_country  venue_latitude  \\\n",
       "0          3  2500 California Plaza             US       41.265398   \n",
       "1          3          263 Summer St             US       42.350219   \n",
       "2          4   11 W Mount Royal Ave             US       39.305344   \n",
       "\n",
       "  venue_longitude                                      venue_name  \\\n",
       "0      -95.948319                                                   \n",
       "1      -71.050625                                      CompuWorks   \n",
       "2      -76.616723  University of Baltimore Thumel Business Center   \n",
       "\n",
       "   venue_state  sequence_number  \n",
       "0                          2907  \n",
       "1           MA             2908  \n",
       "2           MD             2909  \n",
       "\n",
       "[3 rows x 40 columns]"
      ]
     },
     "execution_count": 11,
     "metadata": {},
     "output_type": "execute_result"
    }
   ],
   "source": [
    "df2"
   ]
  },
  {
   "cell_type": "code",
   "execution_count": 15,
   "metadata": {},
   "outputs": [
    {
     "data": {
      "text/plain": [
       "[{'event_id': 4454910, 'cost': 375.0, 'availability': 1, 'quantity_total': 5},\n",
       " {'event_id': 4454910, 'cost': 350.0, 'availability': 1, 'quantity_total': 5},\n",
       " {'event_id': 4454910, 'cost': 250.0, 'availability': 1, 'quantity_total': 5},\n",
       " {'event_id': 4454910, 'cost': 200.0, 'availability': 1, 'quantity_total': 5},\n",
       " {'event_id': 4454910, 'cost': 0.0, 'availability': 1, 'quantity_total': 3},\n",
       " {'event_id': 4454910, 'cost': 100.0, 'availability': 1, 'quantity_total': 5}]"
      ]
     },
     "execution_count": 15,
     "metadata": {},
     "output_type": "execute_result"
    }
   ],
   "source": [
    "df2['ticket_types'][0]"
   ]
  },
  {
   "cell_type": "code",
   "execution_count": 20,
   "metadata": {},
   "outputs": [],
   "source": [
    "table2 = db['new_events2']"
   ]
  },
  {
   "cell_type": "code",
   "execution_count": 21,
   "metadata": {},
   "outputs": [],
   "source": [
    "b = table2.find()"
   ]
  },
  {
   "cell_type": "code",
   "execution_count": 22,
   "metadata": {},
   "outputs": [
    {
     "name": "stdout",
     "output_type": "stream",
     "text": [
      "{'_id': ObjectId('5ed13f1559bb411741560e70'),\n",
      " 'fraud_probability': 0.0035928834519594758,\n",
      " 'name': 'Pharmacy-Based Immunization Delivery',\n",
      " 'object_id': '4454910',\n",
      " 'org_name': '',\n",
      " 'risk_factor': 'low'}\n",
      "{'_id': ObjectId('5ed13f1559bb411741560e71'),\n",
      " 'fraud_probability': 0.005744383404912998,\n",
      " 'name': 'Administering Apache Hadoop-Boston-November 27-29',\n",
      " 'object_id': '4455136',\n",
      " 'org_name': 'Hortonworks, Inc. & Guident ',\n",
      " 'risk_factor': 'low'}\n",
      "{'_id': ObjectId('5ed13f1559bb411741560e72'),\n",
      " 'fraud_probability': 0.004337765342358862,\n",
      " 'name': 'BohConf 2013',\n",
      " 'object_id': '4455302',\n",
      " 'org_name': 'SmartLogic & University of Baltimore',\n",
      " 'risk_factor': 'low'}\n"
     ]
    }
   ],
   "source": [
    "for each_b in b:\n",
    "    pprint.pprint(each_b)"
   ]
  },
  {
   "cell_type": "code",
   "execution_count": 26,
   "metadata": {},
   "outputs": [],
   "source": [
    "d = table2.find()"
   ]
  },
  {
   "cell_type": "code",
   "execution_count": 27,
   "metadata": {},
   "outputs": [
    {
     "name": "stdout",
     "output_type": "stream",
     "text": [
      "'4454910'\n",
      "'4455136'\n",
      "'4455302'\n",
      "'4454910'\n",
      "'4455136'\n",
      "'4455302'\n",
      "'4553164'\n",
      "'4454910'\n",
      "'4455136'\n",
      "'4455302'\n",
      "'4553164'\n",
      "'4454910'\n",
      "'4455136'\n",
      "'4455302'\n",
      "'4553164'\n"
     ]
    }
   ],
   "source": [
    "for each_d in d:\n",
    "    pprint.pprint(each_d['object_id'])"
   ]
  },
  {
   "cell_type": "code",
   "execution_count": null,
   "metadata": {},
   "outputs": [],
   "source": [
    "table2.find({'object_id':})"
   ]
  }
 ],
 "metadata": {
  "kernelspec": {
   "display_name": "Python 3",
   "language": "python",
   "name": "python3"
  },
  "language_info": {
   "codemirror_mode": {
    "name": "ipython",
    "version": 3
   },
   "file_extension": ".py",
   "mimetype": "text/x-python",
   "name": "python",
   "nbconvert_exporter": "python",
   "pygments_lexer": "ipython3",
   "version": "3.7.7"
  }
 },
 "nbformat": 4,
 "nbformat_minor": 4
}
