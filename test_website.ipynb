{
 "cells": [
  {
   "cell_type": "code",
   "execution_count": 17,
   "metadata": {},
   "outputs": [
    {
     "name": "stdout",
     "output_type": "stream",
     "text": [
      "The autoreload extension is already loaded. To reload it, use:\n",
      "  %reload_ext autoreload\n"
     ]
    }
   ],
   "source": [
    "from pymongo import MongoClient\n",
    "\n",
    "import pprint\n",
    "\n",
    "import requests\n",
    "\n",
    "import time\n",
    "\n",
    "import pandas as pd\n",
    "import numpy as np\n",
    "\n",
    "%load_ext autoreload\n",
    "%autoreload 2"
   ]
  },
  {
   "cell_type": "code",
   "execution_count": null,
   "metadata": {},
   "outputs": [],
   "source": [
    "# client = MongoClient('localhost', 27017)\n",
    "# db = client['frauds_test']\n",
    "# table = db['new_events_test2']"
   ]
  },
  {
   "cell_type": "code",
   "execution_count": null,
   "metadata": {},
   "outputs": [],
   "source": [
    "# events = table.find()\n",
    "\n",
    "# for event in events:\n",
    "#     pprint.pprint(event)"
   ]
  },
  {
   "cell_type": "code",
   "execution_count": null,
   "metadata": {},
   "outputs": [],
   "source": []
  },
  {
   "cell_type": "code",
   "execution_count": null,
   "metadata": {},
   "outputs": [],
   "source": []
  },
  {
   "cell_type": "markdown",
   "metadata": {},
   "source": [
    "## Live data test ##"
   ]
  },
  {
   "cell_type": "code",
   "execution_count": 2,
   "metadata": {},
   "outputs": [],
   "source": [
    "client = MongoClient('localhost', 27017)\n",
    "db = client['frauds']\n",
    "table = db['new_events8']"
   ]
  },
  {
   "cell_type": "code",
   "execution_count": 12,
   "metadata": {},
   "outputs": [],
   "source": [
    "a = table.find().sort([('sequence', -1)]).sort([('fraud_probability', -1)])"
   ]
  },
  {
   "cell_type": "code",
   "execution_count": 9,
   "metadata": {},
   "outputs": [
    {
     "name": "stdout",
     "output_type": "stream",
     "text": [
      "{'_id': ObjectId('5ed14aa09a45c149f8aa3d6b'), 'sequence': '2935', 'object_id': '4805725', 'name': 'AbFabParties - Single guys - Members (Fridays) 23.11.12', 'org_name': 'AbFabParties', 'fraud_probability': 0.07890152732135769, 'risk_factor': 'low'}\n",
      "{'_id': ObjectId('5ed149909a45c149f8aa3d67'), 'sequence': '2933', 'object_id': '4782675', 'name': 'Story-Based Technical and Compliance eLearning Design Workshop', 'org_name': 'Vignettes Learning', 'fraud_probability': 0.00473030028268193, 'risk_factor': 'low'}\n",
      "{'_id': ObjectId('5ed14b559a45c149f8aa3d6d'), 'sequence': '2936', 'object_id': '4815441', 'name': 'NDP Christmas Party', 'org_name': 'New Direction Partnership', 'fraud_probability': 0.0036672776133981518, 'risk_factor': 'low'}\n",
      "{'_id': ObjectId('5ed149ea9a45c149f8aa3d69'), 'sequence': '2934', 'object_id': '4800273', 'name': '', 'org_name': 'PRAISE TEMPLE OF CHRIST', 'fraud_probability': 0, 'risk_factor': 'Unable to Predict'}\n"
     ]
    }
   ],
   "source": [
    "for each_ in a:\n",
    "    print(each_)"
   ]
  },
  {
   "cell_type": "code",
   "execution_count": 11,
   "metadata": {},
   "outputs": [
    {
     "ename": "NameError",
     "evalue": "name 'df1' is not defined",
     "output_type": "error",
     "traceback": [
      "\u001b[0;31m---------------------------------------------------------------------------\u001b[0m",
      "\u001b[0;31mNameError\u001b[0m                                 Traceback (most recent call last)",
      "\u001b[0;32m<ipython-input-11-6a861a8b3f1a>\u001b[0m in \u001b[0;36m<module>\u001b[0;34m\u001b[0m\n\u001b[0;32m----> 1\u001b[0;31m \u001b[0mdf1\u001b[0m\u001b[0;34m\u001b[0m\u001b[0;34m\u001b[0m\u001b[0m\n\u001b[0m",
      "\u001b[0;31mNameError\u001b[0m: name 'df1' is not defined"
     ]
    }
   ],
   "source": [
    "df1"
   ]
  },
  {
   "cell_type": "code",
   "execution_count": 13,
   "metadata": {},
   "outputs": [],
   "source": [
    "df = pd.DataFrame(list(a))"
   ]
  },
  {
   "cell_type": "code",
   "execution_count": 14,
   "metadata": {},
   "outputs": [
    {
     "data": {
      "text/html": [
       "<div>\n",
       "<style scoped>\n",
       "    .dataframe tbody tr th:only-of-type {\n",
       "        vertical-align: middle;\n",
       "    }\n",
       "\n",
       "    .dataframe tbody tr th {\n",
       "        vertical-align: top;\n",
       "    }\n",
       "\n",
       "    .dataframe thead th {\n",
       "        text-align: right;\n",
       "    }\n",
       "</style>\n",
       "<table border=\"1\" class=\"dataframe\">\n",
       "  <thead>\n",
       "    <tr style=\"text-align: right;\">\n",
       "      <th></th>\n",
       "      <th>_id</th>\n",
       "      <th>sequence</th>\n",
       "      <th>object_id</th>\n",
       "      <th>name</th>\n",
       "      <th>org_name</th>\n",
       "      <th>fraud_probability</th>\n",
       "      <th>risk_factor</th>\n",
       "    </tr>\n",
       "  </thead>\n",
       "  <tbody>\n",
       "    <tr>\n",
       "      <th>0</th>\n",
       "      <td>5ed14bec9a45c149f8aa3d6f</td>\n",
       "      <td>2937</td>\n",
       "      <td>4816089</td>\n",
       "      <td>HU Lacrosse Combine &amp; Alumni Game</td>\n",
       "      <td>Howard University Men's Lacrosse</td>\n",
       "      <td>0.618341</td>\n",
       "      <td>high</td>\n",
       "    </tr>\n",
       "    <tr>\n",
       "      <th>1</th>\n",
       "      <td>5ed14aa09a45c149f8aa3d6b</td>\n",
       "      <td>2935</td>\n",
       "      <td>4805725</td>\n",
       "      <td>AbFabParties - Single guys - Members (Fridays)...</td>\n",
       "      <td>AbFabParties</td>\n",
       "      <td>0.078902</td>\n",
       "      <td>low</td>\n",
       "    </tr>\n",
       "    <tr>\n",
       "      <th>2</th>\n",
       "      <td>5ed149909a45c149f8aa3d67</td>\n",
       "      <td>2933</td>\n",
       "      <td>4782675</td>\n",
       "      <td>Story-Based Technical and Compliance eLearning...</td>\n",
       "      <td>Vignettes Learning</td>\n",
       "      <td>0.004730</td>\n",
       "      <td>low</td>\n",
       "    </tr>\n",
       "    <tr>\n",
       "      <th>3</th>\n",
       "      <td>5ed14b559a45c149f8aa3d6d</td>\n",
       "      <td>2936</td>\n",
       "      <td>4815441</td>\n",
       "      <td>NDP Christmas Party</td>\n",
       "      <td>New Direction Partnership</td>\n",
       "      <td>0.003667</td>\n",
       "      <td>low</td>\n",
       "    </tr>\n",
       "    <tr>\n",
       "      <th>4</th>\n",
       "      <td>5ed149ea9a45c149f8aa3d69</td>\n",
       "      <td>2934</td>\n",
       "      <td>4800273</td>\n",
       "      <td></td>\n",
       "      <td>PRAISE TEMPLE OF CHRIST</td>\n",
       "      <td>0.000000</td>\n",
       "      <td>Unable to Predict</td>\n",
       "    </tr>\n",
       "  </tbody>\n",
       "</table>\n",
       "</div>"
      ],
      "text/plain": [
       "                        _id sequence object_id  \\\n",
       "0  5ed14bec9a45c149f8aa3d6f     2937   4816089   \n",
       "1  5ed14aa09a45c149f8aa3d6b     2935   4805725   \n",
       "2  5ed149909a45c149f8aa3d67     2933   4782675   \n",
       "3  5ed14b559a45c149f8aa3d6d     2936   4815441   \n",
       "4  5ed149ea9a45c149f8aa3d69     2934   4800273   \n",
       "\n",
       "                                                name  \\\n",
       "0                  HU Lacrosse Combine & Alumni Game   \n",
       "1  AbFabParties - Single guys - Members (Fridays)...   \n",
       "2  Story-Based Technical and Compliance eLearning...   \n",
       "3                                NDP Christmas Party   \n",
       "4                                                      \n",
       "\n",
       "                           org_name  fraud_probability        risk_factor  \n",
       "0  Howard University Men's Lacrosse           0.618341               high  \n",
       "1                      AbFabParties           0.078902                low  \n",
       "2                Vignettes Learning           0.004730                low  \n",
       "3         New Direction Partnership           0.003667                low  \n",
       "4           PRAISE TEMPLE OF CHRIST           0.000000  Unable to Predict  "
      ]
     },
     "execution_count": 14,
     "metadata": {},
     "output_type": "execute_result"
    }
   ],
   "source": [
    "df"
   ]
  },
  {
   "cell_type": "code",
   "execution_count": 19,
   "metadata": {},
   "outputs": [
    {
     "data": {
      "text/plain": [
       "0.618"
      ]
     },
     "execution_count": 19,
     "metadata": {},
     "output_type": "execute_result"
    }
   ],
   "source": [
    "np.around(df['fraud_probability'][0],3)"
   ]
  },
  {
   "cell_type": "code",
   "execution_count": null,
   "metadata": {},
   "outputs": [],
   "source": []
  }
 ],
 "metadata": {
  "kernelspec": {
   "display_name": "Python 3",
   "language": "python",
   "name": "python3"
  },
  "language_info": {
   "codemirror_mode": {
    "name": "ipython",
    "version": 3
   },
   "file_extension": ".py",
   "mimetype": "text/x-python",
   "name": "python",
   "nbconvert_exporter": "python",
   "pygments_lexer": "ipython3",
   "version": "3.7.7"
  }
 },
 "nbformat": 4,
 "nbformat_minor": 4
}
